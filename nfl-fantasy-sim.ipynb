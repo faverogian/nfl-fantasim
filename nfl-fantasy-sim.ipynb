{
 "cells": [
  {
   "cell_type": "markdown",
   "metadata": {},
   "source": [
    "## NFL Fantasy Season Simulator - 2023/2024\n",
    "### Created by Gian Favero ([@faverogian](https://github.com/faverogian)) on August 9, 2024\n",
    "An in-depth analysis of draft strategy for optimal fantasy football performance, using data-driven approaches and simulations.\n",
    "This project is licensed under the MIT License."
   ]
  },
  {
   "cell_type": "code",
   "execution_count": 758,
   "metadata": {},
   "outputs": [],
   "source": [
    "# imports\n",
    "import pandas as pd"
   ]
  },
  {
   "cell_type": "markdown",
   "metadata": {},
   "source": [
    "### Loading the data\n",
    "\n",
    "Here we are using a consensus ADP 2023 ranking from FantasyPros according to 3 different sources: ESPN, Yahoo, and Sleeper for a 12 team league with half PPR scoring."
   ]
  },
  {
   "cell_type": "code",
   "execution_count": 759,
   "metadata": {},
   "outputs": [
    {
     "name": "stdout",
     "output_type": "stream",
     "text": [
      "Sample of ADP data:\n",
      "   Rank               Player Team Bye POS  Yahoo  Sleeper  RTSports  AVG\n",
      "0     1     Justin Jefferson  MIN  13  WR    1.0      1.0       1.0  1.0\n",
      "1     2  Christian McCaffrey   SF   9  RB    2.0      2.0       2.0  2.0\n",
      "2     3        Ja'Marr Chase  CIN   7  WR    3.0      3.0       3.0  3.0\n",
      "3     4        Austin Ekeler  WAS  14  RB    4.0      4.0       4.0  4.0\n",
      "4     5          Tyreek Hill  MIA  10  WR    5.0      6.0       5.0  5.3 \n",
      "\n",
      "Sample of Half PPR data:\n",
      "     #               Player Pos Team     1     2     3     4     5     6  ...  \\\n",
      "0  1.0           Josh Allen  QB  BUF    12  23.7  22.3  36.5  28.8  14.9  ...   \n",
      "1  2.0          Jalen Hurts  QB  PHI  12.5  26.2  21.9  24.2  28.3  22.9  ...   \n",
      "2  3.0  Christian McCaffrey  RB   SF  24.4    21  20.4  45.2  12.8  12.7  ...   \n",
      "3  4.0         Dak Prescott  QB  DAL   6.3  19.6  15.4  14.3   7.3  24.9  ...   \n",
      "4  5.0        Lamar Jackson  QB  BAL   7.6  22.9  28.2  28.1  10.9  18.1  ...   \n",
      "\n",
      "     11    12    13    14    15    16    17    18   AVG    TTL  \n",
      "0  23.5  40.7   BYE  21.5  16.2    26  22.2  25.1  24.2  410.6  \n",
      "1  19.9  35.5  23.9   8.9  23.9  24.4  20.2   1.6  21.9  371.8  \n",
      "2  18.8  28.4  20.8  15.8  39.2  22.1  11.1     -  22.4  357.8  \n",
      "3  16.2  32.2  28.3  17.9   7.1  18.6  21.3  26.2  20.7  351.8  \n",
      "4    24    15   BYE  32.6  19.5  22.6  36.3     -  21.1  338.2  \n",
      "\n",
      "[5 rows x 24 columns]\n"
     ]
    }
   ],
   "source": [
    "# Load ADP data\n",
    "ADP_23 = pd.read_csv('data\\FantasyPros_2023_Overall_ADP_Rankings.csv')\n",
    "\n",
    "# Change position names to remove numbers\n",
    "ADP_23['POS'] = ADP_23['POS'].str.translate(str.maketrans('', '', '1234567890'))\n",
    "print('Sample of ADP data:')\n",
    "print(ADP_23.head(), '\\n')\n",
    "\n",
    "# Load Half PPR data\n",
    "HALF_PPR_23 = pd.read_csv('data\\FantasyPros_Fantasy_Football_Points_HALF.csv')\n",
    "print('Sample of Half PPR data:')\n",
    "print(HALF_PPR_23.head())"
   ]
  },
  {
   "cell_type": "markdown",
   "metadata": {},
   "source": [
    "### Simulating the draft\n",
    "\n",
    "We assume the number of draft rounds is equal to the number of starting roster spots, neglecting the bench. "
   ]
  },
  {
   "cell_type": "code",
   "execution_count": 760,
   "metadata": {},
   "outputs": [],
   "source": [
    "class DraftConfiguration:\n",
    "    order_system = 'snake' # snake or linear\n",
    "    number_of_teams = 12\n",
    "    roster = {\n",
    "        'QB': 1,\n",
    "        'RB': 2,\n",
    "        'WR': 2,\n",
    "        'TE': 1,\n",
    "        'FLEX': 1,\n",
    "        'K': 1,\n",
    "        'DST': 1,\n",
    "        'BENCH': 6,\n",
    "        'nan': 0\n",
    "     }"
   ]
  },
  {
   "cell_type": "markdown",
   "metadata": {},
   "source": [
    "We assume a team can employ a 'BPA', 'Robust RB', 'WR Heavy', 'Early TE', or 'Early QB' strategy. "
   ]
  },
  {
   "cell_type": "code",
   "execution_count": 761,
   "metadata": {},
   "outputs": [],
   "source": [
    "class DraftStrategy:\n",
    "    BPA = 'BPA' # Best Player Available\n",
    "    RB_HEAVY = 'RB Heavy' # Fill RB slots first, then WR, then BPA\n",
    "    WR_HEAVY = 'WR Heavy' # Fill WR slots first, then RB, then BPA\n",
    "    EARLY_QB = 'Early QB' # Draft QB in first 3 rounds\n",
    "    EARLY_TE = 'Early TE' # Draft TE in first 3 rounds"
   ]
  },
  {
   "cell_type": "markdown",
   "metadata": {},
   "source": [
    "From here we can set up our \"league\". To examine a particular draft strategy, we set our team to the one in question and all others to BPA."
   ]
  },
  {
   "cell_type": "code",
   "execution_count": 762,
   "metadata": {},
   "outputs": [
    {
     "name": "stdout",
     "output_type": "stream",
     "text": [
      "Strategy: Early TE\n",
      "    ADP: 2.0  Christian McCaffrey (RB)\n",
      "    ADP: 23.3  Jaylen Waddle (WR)\n",
      "    ADP: 29.7  Mark Andrews (TE)\n",
      "    ADP: 47.3  Jonathan Taylor (RB)\n",
      "    ADP: 50.3  George Kittle (TE)\n",
      "    ADP: 71.3  Alvin Kamara (RB)\n",
      "    ADP: 75.0  Christian Kirk (WR)\n",
      "    ADP: 96.3  Brian Robinson Jr. (RB)\n",
      "    ADP: 101.3  Jamaal Williams (RB)\n",
      "    ADP: 121.7  Dalton Kincaid (TE)\n",
      "    ADP: 124.7  JuJu Smith-Schuster (WR)\n",
      "    ADP: 146.7  Tyler Higbee (TE)\n",
      "    ADP: 151.3  Baltimore Ravens (DST)\n",
      "    ADP: 170.7  Russell Wilson (QB)\n",
      "    ADP: 204.0  Brandon McManus (K)\n"
     ]
    }
   ],
   "source": [
    "import random\n",
    "from nfl_fantasy.roster import FantasyRoster\n",
    "\n",
    "config = DraftConfiguration()\n",
    "strategy = DraftStrategy.EARLY_TE\n",
    "\n",
    "# Generate team with a strategy under study\n",
    "team = FantasyRoster(config.roster.copy(), strategy)\n",
    "\n",
    "# Generate league\n",
    "fantasy_league = [team] + [FantasyRoster(config.roster.copy(), DraftStrategy.BPA) for i in range(config.number_of_teams-1)]\n",
    "\n",
    "# Generate draft order\n",
    "if config.order_system == 'snake':\n",
    "    forward_draft_order = list(range(config.number_of_teams))\n",
    "    random.shuffle(forward_draft_order)\n",
    "    draft_order = forward_draft_order + forward_draft_order[::-1]\n",
    "    rounds = sum(config.roster.values()) // 2\n",
    "    draft_order *= rounds\n",
    "    draft_order += forward_draft_order\n",
    "    \n",
    "else:\n",
    "    draft_order = list(range(config.number_of_teams))\n",
    "    rounds = sum(config.roster.values())\n",
    "    draft_order *= rounds\n",
    "\n",
    "# Make version of the ADP data for the draft\n",
    "ADP_23_draft = ADP_23.copy() \n",
    "\n",
    "# Start the draft\n",
    "for i, pick in enumerate(draft_order):\n",
    "    team = fantasy_league[pick]\n",
    "    player = team.choose_player(ADP_23_draft)\n",
    "    bpa = ADP_23_draft.iloc[0]\n",
    "    ADP_23_draft = ADP_23_draft[ADP_23_draft['Player'] != player['Player']]\n",
    "\n",
    "# Print the results\n",
    "for i, team in enumerate(fantasy_league):\n",
    "    print(f'Strategy: {team.strategy}')\n",
    "    for player in team.players:\n",
    "        print(f\"    ADP: {player['AVG']}  {player['Player']} ({player['POS']})\")\n",
    "    break"
   ]
  },
  {
   "cell_type": "markdown",
   "metadata": {},
   "source": [
    "### Simulating the Season\n",
    "\n",
    "By comparing total points for across the entire season, we can approximate how well such a team would have done. This obviously grossly underestimates the notion of trades, waiver pickups, and the use of a bench. However, it is an assumption that follows the claim that with modern information at our disposal such transactions provide parallel success at best. The optimal line-up is provided on a weekly basis - however this does not account for season ending injuries at positions with no substitute. Monte Carlo simulations should aid in fixing this issue (e.g., drafting Anthony Richardson in 2023)."
   ]
  },
  {
   "cell_type": "code",
   "execution_count": 763,
   "metadata": {},
   "outputs": [
    {
     "name": "stdout",
     "output_type": "stream",
     "text": [
      "Strategy: Early TE\n",
      "Total points: 1579.2000000000005\n"
     ]
    }
   ],
   "source": [
    "def get_week_points(team: FantasyRoster, week: int, half_ppr: pd.DataFrame, roster: dict) -> float:\n",
    "    # Get the players for the team\n",
    "    players = [player['Player'] for player in team.players]\n",
    "    \n",
    "    # Get the points for the players for the week\n",
    "    points = half_ppr[half_ppr['Player'].isin(players)][['Player', str(week), 'Pos']]\n",
    "\n",
    "    # Replace 'BYE' and '-' with 0\n",
    "    points = points.replace('BYE', 0)\n",
    "    points = points.replace('-', 0)\n",
    "    points[str(week)] = points[str(week)].astype(float)\n",
    "\n",
    "    # Sort the players by points\n",
    "    points = points.sort_values(by=[str(week)], ascending=False)\n",
    "\n",
    "    # Get the optimal lineup for the week using the roster configuration\n",
    "    roster = roster.copy()\n",
    "    for index, row in points.iterrows():\n",
    "        pos = row['Pos']\n",
    "        if roster.get(pos, 0) > 0:\n",
    "            roster[pos] -= 1\n",
    "        elif roster.get('FLEX', 0) > 0 and (pos == 'RB' or pos == 'WR'):\n",
    "            roster['FLEX'] -= 1\n",
    "        else:\n",
    "            # Pop from the dataframe\n",
    "            points = points.drop(index)\n",
    "\n",
    "    # Return the points for the week\n",
    "    return points[str(week)].sum()\n",
    "\n",
    "points = 0\n",
    "for team in fantasy_league:\n",
    "    print(f'Strategy: {team.strategy}')\n",
    "    for weeks in range(1, 17):\n",
    "        points += get_week_points(team, 11, HALF_PPR_23, config.roster)\n",
    "    break\n",
    "print(f'Total points: {points}')"
   ]
  }
 ],
 "metadata": {
  "kernelspec": {
   "display_name": "venv",
   "language": "python",
   "name": "python3"
  },
  "language_info": {
   "codemirror_mode": {
    "name": "ipython",
    "version": 3
   },
   "file_extension": ".py",
   "mimetype": "text/x-python",
   "name": "python",
   "nbconvert_exporter": "python",
   "pygments_lexer": "ipython3",
   "version": "3.9.13"
  }
 },
 "nbformat": 4,
 "nbformat_minor": 2
}
